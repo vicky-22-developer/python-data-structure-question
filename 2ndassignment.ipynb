{
  "nbformat": 4,
  "nbformat_minor": 0,
  "metadata": {
    "colab": {
      "provenance": []
    },
    "kernelspec": {
      "name": "python3",
      "display_name": "Python 3"
    },
    "language_info": {
      "name": "python"
    }
  },
  "cells": [
    {
      "cell_type": "code",
      "execution_count": null,
      "metadata": {
        "id": "Hq0grnIp3c42"
      },
      "outputs": [],
      "source": []
    },
    {
      "cell_type": "markdown",
      "source": [
        "1. What are data structures, and why are they important?\n",
        "ans->A data structure is a way of organizing, storing, and managing data so that it can be used efficiently.\n",
        "Think of it as a container that helps arrange data in a particular format so operations like searching, insertion, deletion, and updating can be performed easily.\n",
        "(IMPORTANT)-\n",
        "*Efficiency - Choosing the right data structure makes programs faster and reduces memory usage.\n",
        "\n",
        "*Reusability - Well-designed data structures can be reused across multiple applications.\n",
        "\n",
        "*Data Management - They allow us to store and organize large amounts of data in a logical way.\n",
        "\n",
        "*Optimization - The choice of data structure directly impacts algorithm performance (time and space complexity).\n",
        "\n",
        "*Problem Solving - Many complex problems like route finding in Google Maps, social networks, or databases rely on advanced data structures such as graphs, trees, and heaps.\n",
        "\n",
        "2.  Explain the difference between mutable and immutable data types with examples?\n",
        "ans->1. Mutable Datatypes - A mutable object can be changed after it is created.\n",
        "That means you can add, remove, or modify elements without creating a new object.\n",
        "Examples: list, dict,set,bytearray\n",
        "\n",
        "list = [10 ,30,40]\n",
        "print(list)\n",
        "print(type(list))\n",
        "print(list[0])\n",
        "list[0]=\"vicky\"\n",
        "print(list)\n",
        "\n",
        "2.Immutable Datatypes - An immutable object cannot be changed after it is created.\n",
        "Any modification creates a new object in memory.\n",
        "Examples: int, float, str, tuple,frozenset\n",
        "\n",
        "tuple = (10,20,30,40)\n",
        "print(tuple)\n",
        "print(type(tuple))\n",
        "print(tuple[1])\n",
        "tuple[1]\n",
        "print(tuple)\n",
        "\n",
        "3. What are the main differences between lists and tuples in Python?\n",
        "ans->The main difference between list and tuple is\n",
        "*List is mutable-element can be added, remove or changed.\n",
        "list created using square brackets []\n",
        "example- my_list = [1,2,3]\n",
        "\n",
        "*Tuple is immutabl - once element is created can not be changed.\n",
        "tuple created using round bracket ()\n",
        "example- my_tuple = (1,2,3,4)\n",
        "\n",
        "4. Describe how dictionaries store data?\n",
        "ans->   Python, a dictionary (dict) is a mapping data structure that stores data as key-value-pairs.\n",
        "\n",
        "student = {\"id\":101,\"name\":\"vicky\",\"dept\":\"cse\"}\n",
        "\n",
        " A dictionary stores data in a hash table, using hashing of keys to map each key-value pair to a specific location in memory for fast access.\n",
        "\n",
        " 5. Why might you use a set instead of a list in Python?\n",
        " ans-> *Use a set when you need unique elements, fast membership checking, or mathematical set operations.\n",
        " *Use a list when you need order, duplicates, or index-based access.\n",
        "\n",
        " 6. What is a string in Python, and how is it different from a list?\n",
        " ans->String is a sequence of characters enclosed in sinle(''),double(\"\"),or triple quotes(\"\"\" \"\"\").\n",
        "\n",
        " example: text = \"hello world\"\n",
        "string is different form list because--\n",
        "*string is a sequence of character,it immutable.\n",
        "example-\"hello world\" or 'hello world'\n",
        "\n",
        "*list is a sequence of elements can be numbers, strings,object etc,it is mutable .\n",
        "example- [1,\"hello\",3.4]\n",
        "\n",
        "7. How do tuples ensure data integrity in Python?\n",
        "ans->Tuples ensure data integrity in Python by being immutable containers, preventing accidental modification, making them safe for representing constant, hashable, and structured data.\n",
        "\n",
        "8.  What is a hash table, and how does it relate to dictionaries in Python?\n",
        "ans->A hash table is a data structure that stores key–value pairs and allows very fast access, insertion, and deletion (on average, O(1) time complexity).\n",
        "*Hash table = underlying data structure storing key–value pairs using a hash function.\n",
        "\n",
        "9.  Can lists contain different data types in Python?\n",
        "ans->Yes, Python lists can contain different data types because they store references to objects, not fixed-typed elements.\n",
        "*Here, the list contains:\n",
        "\n",
        "An integer (10)\n",
        "\n",
        "A string (\"hello\")\n",
        "\n",
        "A float (3.14)\n",
        "\n",
        "A boolean (True)\n",
        "\n",
        "Another list ([1, 2, 3])\n",
        "\n",
        "A dictionary ({\"key\": \"value\"})\n",
        "\n",
        "10. Explain why strings are immutable in Python?\n",
        "ans->In Python, immutable objects cannot be changed after they are created.\n",
        "So for strings:\n",
        "*Once you create a string, you cannot change its characters directly.\n",
        "*Any operation that seems to \"modify\" a string actually creates a new string.\n",
        "\n",
        "Example:\n",
        "s = \"hello\"\n",
        "s[0] = \"H\"   \n",
        "\n",
        "11. What advantages do dictionaries offer over lists for certain tasks?\n",
        "ans->Advantages of dictionaries over lists:\n",
        "*Faster lookup - dictionaries use keys (O(1) average) vs lists use indexes/search (O(n)).\n",
        "*Key-value mapping - lets you associate data with meaningful keys, not just positions.\n",
        "*Unique keys - avoids duplicates, ensuring clear identification of items.\n",
        "\n",
        "12. Describe a scenario where using a tuple would be preferable over a list?\n",
        "ans->Tuples are immutable. Hence, they are primarily used to store data that doesn't change frequently. Any operation can store data in a tuple when you don't want it to change. Tuples are great to use if you want the data in your collection to be read-only, never to change, and always remain the same and constant.\n",
        "\n",
        "13. How do sets handle duplicate values in Python?\n",
        "ans->In Python, sets automatically remove duplicate values.\n",
        "If you add duplicates, only one copy is kept.\n",
        "\n",
        "*Exampl-\n",
        "s = {1,2,2,3,}\n",
        "print(s)\n",
        "# output- {1,2,3}\n",
        "\n",
        "14. How does the “in” keyword work differently for lists and dictionaries?\n",
        "ans->the “in” keyword work differently for lists and dictionaries because\n",
        "     dictionary values can be duplicated like a list.\n",
        "\n",
        "15. Can you modify the elements of a tuple? Explain why or why not?\n",
        "ans->Once a tuple is created, you cannot change its values. Tuples are unchangeable, or immutable as it also is called. But there is a workaround. You can convert the tuple into a list, change the list, and convert the list back into a tuple.\n",
        "\n",
        "16. What is a nested dictionary, and give an example of its use case?\n",
        "ans->Creating a Nested Dictionary means placing dictionaries as values inside an outer dictionary using curly braces {}.\n",
        "*Example-\n",
        "students = {\n",
        "    \"101\": {\"name\": \"Vicky\", \"age\": 20, \"course\": \"CSE\"},\n",
        "    \"102\": {\"name\": \"Anita\", \"age\": 21, \"course\": \"ECE\"},\n",
        "    \"103\": {\"name\": \"Ravi\", \"age\": 19, \"course\": \"ME\"}\n",
        "}\n",
        "\n",
        "print(students[\"101\"][\"name\"])   # Output: Vicky\n",
        "print(students[\"102\"][\"course\"]) # Output: ECE\n",
        "\n",
        "students[\"104\"] = {\"name\": \"Priya\", \"age\": 22, \"course\": \"IT\"}\n",
        "\n",
        "print(students)\n",
        "\n",
        "17. Describe the time complexity of accessing elements in a dictionary?\n",
        "ans->the time complexity of accessing elements in a dictionary is (o(1)).\n",
        "\n",
        "18. In what situations are lists preferred over dictionaries?\n",
        "ans->\n",
        "*Order matters → Lists maintain the order of elements, while dictionaries (before Python 3.7) didnt guarantee order.\n",
        "\n",
        "*Sequential data → When you just need to store a collection of items (like numbers, names, etc.) without associating them with unique keys.\n",
        "\n",
        "*Index-based access → If you want to access elements by their position (e.g., mylist[0]), lists are better.\n",
        "\n",
        "*Duplicates allowed → Lists can store duplicate values, while dictionary keys must be unique.\n",
        "\n",
        "*Lightweight data → Lists are simpler and use less memory when you dont need key-value mapping.\n",
        " Example:\n",
        "List is better for storing student roll numbers:\n",
        "\n",
        "roll_numbers = [101, 102, 103, 104]\n",
        "*Dictionary is better when mapping roll numbers to names:\n",
        "students = {101: \"John\", 102: \"Alice\", 103: \"Vicky\"}\n",
        "\n",
        "19. Why are dictionaries considered unordered, and how does that affect data retrieval?\n",
        "ans->A dictionary is termed an unordered collection of objects because dictionaries do not maintain any inherent order of the items based on when they were added.\n",
        "\n",
        "20. Explain the difference between a list and a dictionary in terms of data retrieval?\n",
        "ans->A list is an ordered collection of items, whereas a dictionary is an unordered data collection in a key: value pair.\n",
        "> Elements from the list can be accessed using the index, while the elements of the dictionary can be accessed using keys.\n",
        "\n",
        "\n",
        "\n",
        "\n",
        "\n",
        "\n",
        "\n",
        "\n",
        "\n",
        "\n"
      ],
      "metadata": {
        "id": "WGNnTBCh3ins"
      }
    },
    {
      "cell_type": "markdown",
      "source": [],
      "metadata": {
        "id": "osaQtETzzGA8"
      }
    },
    {
      "cell_type": "code",
      "source": [
        "#1. Write a code to create a string with your name and print it?\n",
        "\n",
        "name = \"vicky kumar yadav\"\n",
        "print(name)"
      ],
      "metadata": {
        "colab": {
          "base_uri": "https://localhost:8080/"
        },
        "id": "Et6oEMLpzE44",
        "outputId": "9db4421f-881d-4bc3-c151-814bf876ca57"
      },
      "execution_count": null,
      "outputs": [
        {
          "output_type": "stream",
          "name": "stdout",
          "text": [
            "vicky kumar yadav\n"
          ]
        }
      ]
    },
    {
      "cell_type": "code",
      "source": [
        "#2.Write a code to find the length of the string \"Hello World\".\n",
        "\n",
        "string = \"hello world\"\n",
        "print(len(string))"
      ],
      "metadata": {
        "colab": {
          "base_uri": "https://localhost:8080/"
        },
        "id": "-l2WXGgCzuKa",
        "outputId": "aea6db38-884d-4400-f69f-788aaedfb2b2"
      },
      "execution_count": null,
      "outputs": [
        {
          "output_type": "stream",
          "name": "stdout",
          "text": [
            "11\n"
          ]
        }
      ]
    },
    {
      "cell_type": "code",
      "source": [
        "#3  Write a code to slice the first 3 characters from the string \"Python Programming\".\n",
        "string = \"python programming\"\n",
        "print(string[0:3])"
      ],
      "metadata": {
        "colab": {
          "base_uri": "https://localhost:8080/"
        },
        "id": "J0Rvf5UPBgFv",
        "outputId": "3dbb6b37-7eab-42ca-e97d-d0e1835b9d8d"
      },
      "execution_count": null,
      "outputs": [
        {
          "output_type": "stream",
          "name": "stdout",
          "text": [
            "pyt\n"
          ]
        }
      ]
    },
    {
      "cell_type": "code",
      "source": [
        "#4 Write a code to convert the string \"hello\" to uppercase.\n",
        "string = \"hello\"\n",
        "print(string.upper())"
      ],
      "metadata": {
        "colab": {
          "base_uri": "https://localhost:8080/"
        },
        "id": "MvOjaVnb1pdU",
        "outputId": "ed38ce14-66ac-41fa-df83-7fef93a3760f"
      },
      "execution_count": null,
      "outputs": [
        {
          "output_type": "stream",
          "name": "stdout",
          "text": [
            "HELLO\n"
          ]
        }
      ]
    },
    {
      "cell_type": "code",
      "source": [
        "#5 Write a code to replace the word \"apple\" with \"orange\" in the string \"I like apple\".\n",
        "string = \"i like apple\"\n",
        "print(string.replace(\"apple\",\"orange\"))"
      ],
      "metadata": {
        "colab": {
          "base_uri": "https://localhost:8080/"
        },
        "id": "PAjEjiy59Rz9",
        "outputId": "4b45bf2d-605a-4b78-c372-1fe97e2aff8d"
      },
      "execution_count": null,
      "outputs": [
        {
          "output_type": "stream",
          "name": "stdout",
          "text": [
            "i like orange\n"
          ]
        }
      ]
    },
    {
      "cell_type": "code",
      "source": [
        "#6 Write a code to create a list with numbers 1 to 5 and print it.\n",
        "list =[1,2,3,4,5]\n",
        "print(list)"
      ],
      "metadata": {
        "colab": {
          "base_uri": "https://localhost:8080/"
        },
        "id": "AYA_NR3A-eSr",
        "outputId": "aef5ed59-f3c7-4fa4-fa2e-77380250adcf"
      },
      "execution_count": null,
      "outputs": [
        {
          "output_type": "stream",
          "name": "stdout",
          "text": [
            "[1, 2, 3, 4, 5]\n"
          ]
        }
      ]
    },
    {
      "cell_type": "code",
      "source": [
        "#7 Write a code to append the number 10 to the list [1, 2, 3, 4].\n",
        "list = [1,2,3,4,]\n",
        "list.append(10)\n",
        "print(list)"
      ],
      "metadata": {
        "colab": {
          "base_uri": "https://localhost:8080/"
        },
        "id": "olAiGx96-sOl",
        "outputId": "f7b6e73f-17b5-4cad-92df-f2bf8b72d956"
      },
      "execution_count": null,
      "outputs": [
        {
          "output_type": "stream",
          "name": "stdout",
          "text": [
            "[1, 2, 3, 4, 10]\n"
          ]
        }
      ]
    },
    {
      "cell_type": "code",
      "source": [
        "#8 Write a code to remove the number 3 from the list [1, 2, 3, 4, 5].\n",
        "list = [1,2,3,4,5]\n",
        "list.remove(3)\n",
        "print(list)"
      ],
      "metadata": {
        "colab": {
          "base_uri": "https://localhost:8080/"
        },
        "id": "HOxIYA7Y_0Fq",
        "outputId": "a7bdffbf-bf85-43f4-dd69-93324964f1f5"
      },
      "execution_count": null,
      "outputs": [
        {
          "output_type": "stream",
          "name": "stdout",
          "text": [
            "[1, 2, 4, 5]\n"
          ]
        }
      ]
    },
    {
      "cell_type": "code",
      "source": [
        "#9 Write a code to access the second element in the list ['a', 'b', 'c', 'd'].\n",
        "list = [\"a\",\"b\",\"c\",\"d\"]\n",
        "print(list[1])"
      ],
      "metadata": {
        "id": "sdOXGsENAlkX",
        "colab": {
          "base_uri": "https://localhost:8080/"
        },
        "outputId": "5011ef32-242a-4726-b703-cbbec3071b17"
      },
      "execution_count": null,
      "outputs": [
        {
          "output_type": "stream",
          "name": "stdout",
          "text": [
            "b\n"
          ]
        }
      ]
    },
    {
      "cell_type": "code",
      "source": [
        "#10  Write a code to reverse the list [10, 20, 30, 40, 50].\n",
        "list =[10,20,30,40,50]\n",
        "print(list[::-1])"
      ],
      "metadata": {
        "colab": {
          "base_uri": "https://localhost:8080/"
        },
        "id": "SJ3iL3EKBUme",
        "outputId": "81fa68ec-de07-4f10-cffe-db96da01eabe"
      },
      "execution_count": null,
      "outputs": [
        {
          "output_type": "stream",
          "name": "stdout",
          "text": [
            "[50, 40, 30, 20, 10]\n"
          ]
        }
      ]
    },
    {
      "cell_type": "code",
      "source": [
        "#11  Write a code to create a tuple with the elements 100, 200, 300 and print it.\n",
        "tuple =(100,200,300,)\n",
        "print(tuple)"
      ],
      "metadata": {
        "colab": {
          "base_uri": "https://localhost:8080/"
        },
        "id": "z7blDMwwDpq_",
        "outputId": "cf0752c0-c545-49be-e07e-20c561507717"
      },
      "execution_count": null,
      "outputs": [
        {
          "output_type": "stream",
          "name": "stdout",
          "text": [
            "(100, 200, 300)\n"
          ]
        }
      ]
    },
    {
      "cell_type": "code",
      "source": [
        "#12  Write a code to access the second-to-last element of the tuple ('red', 'green', 'blue', 'yellow').\n",
        "t = (\"red\",\"green\",\"blue\",\"yellow\")\n",
        "print(t[1:4])"
      ],
      "metadata": {
        "colab": {
          "base_uri": "https://localhost:8080/"
        },
        "id": "akR6L32yE1ko",
        "outputId": "c2879d25-6281-4e88-d8ad-2f16137b483c"
      },
      "execution_count": null,
      "outputs": [
        {
          "output_type": "stream",
          "name": "stdout",
          "text": [
            "('green', 'blue', 'yellow')\n"
          ]
        }
      ]
    },
    {
      "cell_type": "code",
      "source": [
        "#13  Write a code to find the minimum number in the tuple (10, 20, 5, 15).\n",
        "number = (10,20,5,15)\n",
        "min_num = min(number)\n",
        "print(min_num)\n"
      ],
      "metadata": {
        "colab": {
          "base_uri": "https://localhost:8080/"
        },
        "id": "2gVPHahwFf1j",
        "outputId": "b61c43a5-6526-4022-e342-1fbbe04e627f"
      },
      "execution_count": null,
      "outputs": [
        {
          "output_type": "stream",
          "name": "stdout",
          "text": [
            "5\n"
          ]
        }
      ]
    },
    {
      "cell_type": "code",
      "source": [
        "#14 Write a code to find the index of the element \"cat\" in the tuple ('dog', 'cat', 'rabbit').\n",
        "t = (\"dog\",\"cat\",\"rabbit\")\n",
        "print(t.index(\"cat\"))"
      ],
      "metadata": {
        "colab": {
          "base_uri": "https://localhost:8080/"
        },
        "id": "s0AYxA9sGuJY",
        "outputId": "22946a80-6a0e-4da3-a86f-8502575e45bc"
      },
      "execution_count": null,
      "outputs": [
        {
          "output_type": "stream",
          "name": "stdout",
          "text": [
            "1\n"
          ]
        }
      ]
    },
    {
      "cell_type": "code",
      "source": [
        "#15  Write a code to create a tuple containing three different fruits and check if \"kiwi\" is in it.\n",
        "fruits = (\"apple\",\"banana\",\"orange\")\n",
        "\n",
        "if \"kiwi\" in fruits:\n",
        "  print(\"yes kiwi is in the fruits\")\n",
        "else:\n",
        "  print(\"no kiwi is not in the fruits\")\n"
      ],
      "metadata": {
        "colab": {
          "base_uri": "https://localhost:8080/"
        },
        "id": "yrOPadcNHZm_",
        "outputId": "2438039e-5490-4148-a7d2-942c8138b4b5"
      },
      "execution_count": null,
      "outputs": [
        {
          "output_type": "stream",
          "name": "stdout",
          "text": [
            "no kiwi is not in the fruits\n"
          ]
        }
      ]
    },
    {
      "cell_type": "code",
      "source": [
        "#16  Write a code to create a set with the elements 'a', 'b', 'c' and print it.\n",
        "l = {'a','b','c'}\n",
        "print(l)"
      ],
      "metadata": {
        "colab": {
          "base_uri": "https://localhost:8080/"
        },
        "id": "gz-QqIgLML6H",
        "outputId": "5b37c274-94a0-431e-be75-6b1b67f6d425"
      },
      "execution_count": null,
      "outputs": [
        {
          "output_type": "stream",
          "name": "stdout",
          "text": [
            "{'a', 'c', 'b'}\n"
          ]
        }
      ]
    },
    {
      "cell_type": "code",
      "source": [
        "#17 Write a code to clear all elements from the set {1, 2, 3, 4, 5}.\n",
        "s = {1,2,3,4,5}\n",
        "s.clear()\n",
        "print(s)"
      ],
      "metadata": {
        "colab": {
          "base_uri": "https://localhost:8080/"
        },
        "id": "bo7kuoQLNGJJ",
        "outputId": "a93c7d1b-233c-4f20-b20b-9fa7d54c2e26"
      },
      "execution_count": null,
      "outputs": [
        {
          "output_type": "stream",
          "name": "stdout",
          "text": [
            "set()\n"
          ]
        }
      ]
    },
    {
      "cell_type": "code",
      "source": [
        "#18  Write a code to remove the element 4 from the set {1, 2, 3, 4}.\n",
        "s = {1,2,3,4}\n",
        "s.remove(4)\n",
        "print(s)"
      ],
      "metadata": {
        "colab": {
          "base_uri": "https://localhost:8080/"
        },
        "id": "3iSaOAoJN1fr",
        "outputId": "6cb819c3-b4b8-4e9d-febf-7e77154ca52f"
      },
      "execution_count": null,
      "outputs": [
        {
          "output_type": "stream",
          "name": "stdout",
          "text": [
            "{1, 2, 3}\n"
          ]
        }
      ]
    },
    {
      "cell_type": "code",
      "source": [
        "#19 Write a code to find the union of two sets {1, 2, 3} and {3, 4, 5}.\n",
        "s1 = {1,2,3}\n",
        "s2 = {3,4,5}\n",
        "s = s1.union(s2)\n",
        "print(s)"
      ],
      "metadata": {
        "colab": {
          "base_uri": "https://localhost:8080/"
        },
        "id": "f0-Jb3OBOUED",
        "outputId": "32958910-b45a-48e2-a38a-5406b7655512"
      },
      "execution_count": null,
      "outputs": [
        {
          "output_type": "stream",
          "name": "stdout",
          "text": [
            "{1, 2, 3, 4, 5}\n"
          ]
        }
      ]
    },
    {
      "cell_type": "code",
      "source": [
        "#20 . Write a code to find the intersection of two sets {1, 2, 3} and {2, 3, 4}.\n",
        "s1 = {1,2,3}\n",
        "s2 = {2,3,4}\n",
        "s = s1.intersection(s2)\n",
        "print(s)"
      ],
      "metadata": {
        "colab": {
          "base_uri": "https://localhost:8080/"
        },
        "id": "7kjhB0QNPbK0",
        "outputId": "e510f0bb-1759-4de9-a0eb-4591f2e5b330"
      },
      "execution_count": null,
      "outputs": [
        {
          "output_type": "stream",
          "name": "stdout",
          "text": [
            "{2, 3}\n"
          ]
        }
      ]
    },
    {
      "cell_type": "code",
      "source": [
        "#21 . Write a code to create a dictionary with the keys \"name\", \"age\", and \"city\", and print it.\n",
        "my_dict ={\n",
        "    \"name\":\"vcky\",\n",
        "    \"age\":23,\n",
        "    \"city\":\"dhanbad\"\n",
        "}\n",
        "print(my_dict)"
      ],
      "metadata": {
        "colab": {
          "base_uri": "https://localhost:8080/"
        },
        "id": "6iM5cJL8QJq5",
        "outputId": "fd294d7f-d6c4-4361-e735-1debdb60751b"
      },
      "execution_count": null,
      "outputs": [
        {
          "output_type": "stream",
          "name": "stdout",
          "text": [
            "{'name': 'vcky', 'age': 23, 'city': 'dhanbad'}\n"
          ]
        }
      ]
    },
    {
      "cell_type": "code",
      "source": [
        "#22  Write a code to add a new key-value pair \"country\": \"USA\" to the dictionary {'name': 'John', 'age': 25}.\n",
        "person = {\n",
        "    \"name\":\"vicky\",\n",
        "    \"age\":23\n",
        "}\n",
        "person[\"country\"] = \"USA\"\n",
        "\n",
        "print(person)"
      ],
      "metadata": {
        "colab": {
          "base_uri": "https://localhost:8080/"
        },
        "id": "nEr03TgxQvHU",
        "outputId": "b39f35b4-bdc1-42d1-b0ef-c1d4c6e0b8a4"
      },
      "execution_count": null,
      "outputs": [
        {
          "output_type": "stream",
          "name": "stdout",
          "text": [
            "{'name': 'vicky', 'age': 23, 'country': 'USA'}\n"
          ]
        }
      ]
    },
    {
      "cell_type": "code",
      "source": [
        "#23 Write a code to access the value associated with the key \"name\" in the dictionary {'name': 'Alice', 'age': 30}.\n",
        "person = {\n",
        "    \"name\":\"Alice\",\n",
        "    \"age\":30\n",
        "}\n",
        "print(person[\"name\"])"
      ],
      "metadata": {
        "colab": {
          "base_uri": "https://localhost:8080/"
        },
        "id": "WT8PEGPOSaBu",
        "outputId": "5772b945-a7d4-404b-ca6f-27f473e58947"
      },
      "execution_count": null,
      "outputs": [
        {
          "output_type": "stream",
          "name": "stdout",
          "text": [
            "Alice\n"
          ]
        }
      ]
    },
    {
      "cell_type": "code",
      "source": [
        "#24  Write a code to remove the key \"age\" from the dictionary {'name': 'Bob', 'age': 22, 'city': 'New York'}.\n",
        "person = {\n",
        "    \"name\":\"bob\",\n",
        "    \"age\":22,\n",
        "    \"city\":\"new york\"\n",
        "}\n",
        "del person[\"age\"]\n",
        "print(person)\n"
      ],
      "metadata": {
        "colab": {
          "base_uri": "https://localhost:8080/"
        },
        "id": "MwICmRgmS21p",
        "outputId": "64dc25cf-1d1e-49c0-9554-df23c793f267"
      },
      "execution_count": null,
      "outputs": [
        {
          "output_type": "stream",
          "name": "stdout",
          "text": [
            "{'name': 'bob', 'city': 'new york'}\n"
          ]
        }
      ]
    },
    {
      "cell_type": "code",
      "source": [
        "#25  Write a code to check if the key \"city\" exists in the dictionary {'name': 'Alice', 'city': 'Paris'}.\n",
        "person = {\n",
        "    \"name\":\"alice\",\n",
        "    \"city\":\"paris\"\n",
        "}\n",
        "if \"city\" in person:\n",
        "    print(\"city is present\")\n",
        "else:\n",
        "    print(\"city is not present\")"
      ],
      "metadata": {
        "colab": {
          "base_uri": "https://localhost:8080/"
        },
        "id": "96N1uQhNT2dS",
        "outputId": "99a456ee-ff90-427a-c160-9bef1e41be6c"
      },
      "execution_count": null,
      "outputs": [
        {
          "output_type": "stream",
          "name": "stdout",
          "text": [
            "city is present\n"
          ]
        }
      ]
    },
    {
      "cell_type": "code",
      "source": [
        "#26  Write a code to create a list, a tuple, and a dictionary, and print them all.\n",
        "list = [1,2,3,4]\n",
        "print(list)\n",
        "tuple = (1,2,3,4)\n",
        "print(tuple)\n",
        "\n",
        "\n"
      ],
      "metadata": {
        "colab": {
          "base_uri": "https://localhost:8080/"
        },
        "id": "vNL0UwTFVlbP",
        "outputId": "36f07944-38d8-43fd-8493-7cd574ba718e"
      },
      "execution_count": null,
      "outputs": [
        {
          "output_type": "stream",
          "name": "stdout",
          "text": [
            "[1, 2, 3, 4]\n",
            "(1, 2, 3, 4)\n"
          ]
        }
      ]
    },
    {
      "cell_type": "code",
      "source": [
        "#27  Write a code to create a list of 5 random numbers between 1 and 100, sort it in ascending order, and print the result.(replaced).\n",
        "\n",
        "import random\n",
        "numbers = [random.randint(1, 100) for _ in range(5)]\n",
        "numbers.sort()\n",
        "print(\"Sorted list:\", numbers)"
      ],
      "metadata": {
        "colab": {
          "base_uri": "https://localhost:8080/"
        },
        "id": "WfP-iwH_V8MQ",
        "outputId": "4dc97cdb-49fe-4f8e-ee4a-cfe4bcf899e7"
      },
      "execution_count": null,
      "outputs": [
        {
          "output_type": "stream",
          "name": "stdout",
          "text": [
            "Sorted list: [3, 16, 18, 37, 99]\n"
          ]
        }
      ]
    },
    {
      "cell_type": "code",
      "source": [
        "#28  Write a code to create a list with strings and print the element at the third index.\n",
        "list = [\"vicky\",\"kumar\",\"yadav\"]\n",
        "print(list[2])"
      ],
      "metadata": {
        "colab": {
          "base_uri": "https://localhost:8080/"
        },
        "id": "Of8qGVk3YGls",
        "outputId": "31bda83a-9a37-46b2-b17c-a1d136cefabf"
      },
      "execution_count": null,
      "outputs": [
        {
          "output_type": "stream",
          "name": "stdout",
          "text": [
            "yadav\n"
          ]
        }
      ]
    },
    {
      "cell_type": "code",
      "source": [
        "#29  Write a code to combine two dictionaries into one and print the result.\n",
        "my_dict = {\n",
        "    \"name\":\"vicky\",\n",
        "    \"age\":22\n",
        "}\n",
        "my_dict2 = {\n",
        "    \"city\":\"dhanbad\",\n",
        "    \"country\":\"india\"\n",
        "}\n",
        "my_dict.update(my_dict2)\n",
        "print(my_dict)"
      ],
      "metadata": {
        "colab": {
          "base_uri": "https://localhost:8080/"
        },
        "id": "iu73VgdNYbhv",
        "outputId": "8e94c600-f957-4ad9-f8b9-b6aea0461e8e"
      },
      "execution_count": null,
      "outputs": [
        {
          "output_type": "stream",
          "name": "stdout",
          "text": [
            "{'name': 'vicky', 'age': 22, 'city': 'dhanbad', 'country': 'india'}\n"
          ]
        }
      ]
    },
    {
      "cell_type": "code",
      "source": [
        "#30 Write a code to convert a list of strings into a set.\n",
        "fruits = [\"banana\", \"orange\", \"apple\"]\n",
        "fruits_set = set(fruits)\n",
        "print(\"Set:\", fruits_set)"
      ],
      "metadata": {
        "colab": {
          "base_uri": "https://localhost:8080/"
        },
        "id": "zxpt7Ri0ZUhj",
        "outputId": "38b4954d-48d5-4d96-f844-56c5fc36d935"
      },
      "execution_count": null,
      "outputs": [
        {
          "output_type": "stream",
          "name": "stdout",
          "text": [
            "Set: {'banana', 'orange', 'apple'}\n"
          ]
        }
      ]
    }
  ]
}